This is my assignment notebook.
